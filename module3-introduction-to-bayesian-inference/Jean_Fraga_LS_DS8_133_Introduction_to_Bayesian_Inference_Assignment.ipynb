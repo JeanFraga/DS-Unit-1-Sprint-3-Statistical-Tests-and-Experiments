{
  "nbformat": 4,
  "nbformat_minor": 0,
  "metadata": {
    "colab": {
      "name": "Jean Fraga LS_DS8_133_Introduction_to_Bayesian_Inference_Assignment.ipynb",
      "provenance": []
    },
    "kernelspec": {
      "name": "python3",
      "display_name": "Python 3"
    }
  },
  "cells": [
    {
      "cell_type": "markdown",
      "metadata": {
        "id": "H7OLbevlbd_Z",
        "colab_type": "text"
      },
      "source": [
        "# Lambda School Data Science Module 133\n",
        "\n",
        "## Introduction to Bayesian Inference\n",
        "\n",
        "\n"
      ]
    },
    {
      "cell_type": "markdown",
      "metadata": {
        "id": "P-DzzRk5bf0z",
        "colab_type": "text"
      },
      "source": [
        "## Assignment - Code it up!\n",
        "\n",
        "Most of the above was pure math - now write Python code to reproduce the results! This is purposefully open ended - you'll have to think about how you should represent probabilities and events. You can and should look things up, and as a stretch goal - refactor your code into helpful reusable functions!\n",
        "\n",
        "Specific goals/targets:\n",
        "\n",
        "1. Write a function `def prob_drunk_given_positive(prob_drunk_prior, prob_positive, prob_positive_drunk)` that reproduces the example from lecture, and use it to calculate and visualize a range of situations\n",
        "2. Explore `scipy.stats.bayes_mvs` - read its documentation, and experiment with it on data you've tested in other ways earlier this week\n",
        "3. Create a visualization comparing the results of a Bayesian approach to a traditional/frequentist approach\n",
        "4. In your own words, summarize the difference between Bayesian and Frequentist statistics\n",
        "\n",
        "If you're unsure where to start, check out [this blog post of Bayes theorem with Python](https://dataconomy.com/2015/02/introduction-to-bayes-theorem-with-python/) - you could and should create something similar!\n",
        "\n",
        "Stretch goals:\n",
        "\n",
        "- Apply a Bayesian technique to a problem you previously worked (in an assignment or project work) on from a frequentist (standard) perspective\n",
        "- Check out [PyMC3](https://docs.pymc.io/) (note this goes beyond hypothesis tests into modeling) - read the guides and work through some examples\n",
        "- Take PyMC3 further - see if you can build something with it!"
      ]
    },
    {
      "cell_type": "code",
      "metadata": {
        "id": "xpVhZyUnbf7o",
        "colab_type": "code",
        "colab": {}
      },
      "source": [
        "#prob_after_two_positive_test_results = (.99*.332)/((.99*.332)+(.01*.668))\n",
        "\n",
        "#prob_after_two_positive_test_results\n",
        "\n",
        "def bayes_theorem_applier(prior, false_positive, times_run=1):\n",
        "#I wanted to try recursion but I was not able to right now because of time constraint\n",
        "#  for _ in range(times_run):\n",
        "#    prob_after_two_test=(false_positive*prior)/((false_positive*prior)+((1-false_positive)*(1-prior)))\n",
        "  prob_after_two_test=(false_positive*prior)/((false_positive*prior)+((1-false_positive)*(1-prior)))\n",
        "  if times_run==1:\n",
        "    prob_after_two_test=(false_positive*prior)/((false_positive*prior)+((1-false_positive)*(1-prior)))\n",
        "    return prob_after_two_test\n",
        "  else:\n",
        "    #prob_after_two_test=(false_positive*prior*new_prior)/((false_positive*prior*new_prior)+((1-false_positive)*(1-(prior*new_prior)))\n",
        "    #new_prior = bayes_theorem_applier(prior, false_positive, times_run=-1)\n",
        "    #new_prior = bayes_theorem_applier(prior, false_positive, times_run=-1)\n",
        "    #prob_after_two_test=(false_positive*prior)/((false_positive*prior)+((1-false_positive)*(1-prior)))\n",
        "    prior = bayes_theorem_applier(prior, false_positive, times_run=-1)\n",
        "    #(false_positive*recursed)/((false_positive*recursed)+((1-false_positive)*(1-recursed)))\n",
        "    #times_run=-1\n",
        "    #prior = prob_after_two_test\n",
        "    return prior\n",
        "    \n",
        "    #for time_run in times_run:\n",
        "\n",
        "      #prob_after_more_test=(false_positive*prob_after_two_test)/((false_positive*prob_after_two_test)+((1-false_positive)*(1-prob_after_two_test)))\n",
        "      #prob_after_more_test[i]\n",
        "      #return prob_after_more_test\n",
        "\n",
        "  #return prob_after_two_test"
      ],
      "execution_count": 0,
      "outputs": []
    },
    {
      "cell_type": "code",
      "metadata": {
        "id": "_4ztdB0hw_PT",
        "colab_type": "code",
        "colab": {
          "base_uri": "https://localhost:8080/",
          "height": 34
        },
        "outputId": "ab9dd70b-e4fb-4be3-cb9c-b3f61d43801d"
      },
      "source": [
        "bayes_theorem_applier(.005, .99, 1)"
      ],
      "execution_count": 104,
      "outputs": [
        {
          "output_type": "execute_result",
          "data": {
            "text/plain": [
              "0.33221476510067094"
            ]
          },
          "metadata": {
            "tags": []
          },
          "execution_count": 104
        }
      ]
    },
    {
      "cell_type": "code",
      "metadata": {
        "id": "6elrqV-C7NGv",
        "colab_type": "code",
        "colab": {
          "base_uri": "https://localhost:8080/",
          "height": 34
        },
        "outputId": "2d8be195-4a91-4dc2-af53-c3d32a73cdb9"
      },
      "source": [
        "newtry = bayes_theorem_applier(.005, .99, 1)\n",
        "newtry"
      ],
      "execution_count": 85,
      "outputs": [
        {
          "output_type": "execute_result",
          "data": {
            "text/plain": [
              "0.33221476510067094"
            ]
          },
          "metadata": {
            "tags": []
          },
          "execution_count": 85
        }
      ]
    },
    {
      "cell_type": "code",
      "metadata": {
        "id": "9HP4AyVR9sAI",
        "colab_type": "code",
        "colab": {}
      },
      "source": [
        ""
      ],
      "execution_count": 0,
      "outputs": []
    },
    {
      "cell_type": "code",
      "metadata": {
        "id": "kLUoFZIp3B_B",
        "colab_type": "code",
        "colab": {
          "base_uri": "https://localhost:8080/",
          "height": 34
        },
        "outputId": "54a4b279-be28-4424-ab01-5fd100a71d4c"
      },
      "source": [
        "newtry2 = bayes_theorem_applier(newtry, .99, 1)\n",
        "newtry2"
      ],
      "execution_count": 86,
      "outputs": [
        {
          "output_type": "execute_result",
          "data": {
            "text/plain": [
              "0.9800999999999999"
            ]
          },
          "metadata": {
            "tags": []
          },
          "execution_count": 86
        }
      ]
    },
    {
      "cell_type": "code",
      "metadata": {
        "id": "HI55orov7eGG",
        "colab_type": "code",
        "colab": {
          "base_uri": "https://localhost:8080/",
          "height": 34
        },
        "outputId": "7e301d1a-c4cf-4186-84cb-946eff6e45de"
      },
      "source": [
        "bayes_theorem_applier(.99, newtry, 1)"
      ],
      "execution_count": 75,
      "outputs": [
        {
          "output_type": "execute_result",
          "data": {
            "text/plain": [
              "0.9800999999999999"
            ]
          },
          "metadata": {
            "tags": []
          },
          "execution_count": 75
        }
      ]
    },
    {
      "cell_type": "code",
      "metadata": {
        "id": "L41n08sb7zFC",
        "colab_type": "code",
        "colab": {
          "base_uri": "https://localhost:8080/",
          "height": 34
        },
        "outputId": "e8a578cb-ca33-4e1d-9e8a-8b63139c2570"
      },
      "source": [
        "false_positive=.99\n",
        "prior = .005\n",
        "new_prior = bayes_theorem_applier(prior, false_positive, 1)\n",
        "new_prior = bayes_theorem_applier(new_prior, false_positive)\n",
        "new_prior = bayes_theorem_applier(new_prior, false_positive)\n",
        "new_prior = bayes_theorem_applier(new_prior, false_positive)\n",
        "new_prior = bayes_theorem_applier(new_prior, false_positive)\n",
        "new_prior"
      ],
      "execution_count": 89,
      "outputs": [
        {
          "output_type": "execute_result",
          "data": {
            "text/plain": [
              "0.9999999790744397"
            ]
          },
          "metadata": {
            "tags": []
          },
          "execution_count": 89
        }
      ]
    },
    {
      "cell_type": "markdown",
      "metadata": {
        "id": "uWgWjp3PQ3Sq",
        "colab_type": "text"
      },
      "source": [
        "## Resources"
      ]
    },
    {
      "cell_type": "markdown",
      "metadata": {
        "id": "QRgHqmYIQ9qn",
        "colab_type": "text"
      },
      "source": [
        "- [Worked example of Bayes rule calculation](https://en.wikipedia.org/wiki/Bayes'_theorem#Examples) (helpful as it fully breaks out the denominator)\n",
        "- [Source code for mvsdist in scipy](https://github.com/scipy/scipy/blob/90534919e139d2a81c24bf08341734ff41a3db12/scipy/stats/morestats.py#L139)"
      ]
    }
  ]
}