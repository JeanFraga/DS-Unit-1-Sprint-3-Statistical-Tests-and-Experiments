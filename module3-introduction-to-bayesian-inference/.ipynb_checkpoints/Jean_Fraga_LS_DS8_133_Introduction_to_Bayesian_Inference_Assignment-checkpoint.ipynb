{
 "cells": [
  {
   "cell_type": "markdown",
   "metadata": {
    "colab_type": "text",
    "id": "H7OLbevlbd_Z"
   },
   "source": [
    "# Lambda School Data Science Module 133\n",
    "\n",
    "## Introduction to Bayesian Inference\n",
    "\n",
    "\n"
   ]
  },
  {
   "cell_type": "markdown",
   "metadata": {
    "colab_type": "text",
    "id": "P-DzzRk5bf0z"
   },
   "source": [
    "## Assignment - Code it up!\n",
    "\n",
    "Most of the above was pure math - now write Python code to reproduce the results! This is purposefully open ended - you'll have to think about how you should represent probabilities and events. You can and should look things up, and as a stretch goal - refactor your code into helpful reusable functions!\n",
    "\n",
    "Specific goals/targets:\n",
    "\n",
    "1. Write a function `def prob_drunk_given_positive(prob_drunk_prior, prob_positive, prob_positive_drunk)` that reproduces the example from lecture, and use it to calculate and visualize a range of situations\n",
    "2. Explore `scipy.stats.bayes_mvs` - read its documentation, and experiment with it on data you've tested in other ways earlier this week\n",
    "3. Create a visualization comparing the results of a Bayesian approach to a traditional/frequentist approach\n",
    "4. In your own words, summarize the difference between Bayesian and Frequentist statistics\n",
    "    A frequentist approach to statistics allows a person to make an assumption about a population's description(mean) on the sample of that population. A bayesian apporach to statistics makes an assumption about the population and finds a desctription for the population based on that assumption's data.\n",
    "\n",
    "If you're unsure where to start, check out [this blog post of Bayes theorem with Python](https://dataconomy.com/2015/02/introduction-to-bayes-theorem-with-python/) - you could and should create something similar!\n",
    "\n",
    "Stretch goals:\n",
    "\n",
    "- Apply a Bayesian technique to a problem you previously worked (in an assignment or project work) on from a frequentist (standard) perspective\n",
    "- Check out [PyMC3](https://docs.pymc.io/) (note this goes beyond hypothesis tests into modeling) - read the guides and work through some examples\n",
    "- Take PyMC3 further - see if you can build something with it!"
   ]
  },
  {
   "cell_type": "code",
   "execution_count": 77,
   "metadata": {
    "colab": {},
    "colab_type": "code",
    "id": "xpVhZyUnbf7o"
   },
   "outputs": [],
   "source": [
    "#prob_after_two_positive_test_results = (.99*.332)/((.99*.332)+(.01*.668))\n",
    "\n",
    "#prob_after_two_positive_test_results\n",
    "\n",
    "def bayes_theorem_applier(prior, false_positive, times_run=1):\n",
    "    \"\"\"\n",
    "    \n",
    "    Takes a percentage from prior knowledge in decimal form,\n",
    "    a percentage of a false result in decimal form,\n",
    "    and the amount of times the test can be taken as an int.\n",
    "    \n",
    "    If you pass a number for times_run less than 1 it will just return the iteration as if 1 times.\n",
    "    \n",
    "    \"\"\"\n",
    "    if times_run > 1:\n",
    "        iteration = times_run -1\n",
    "        new_prior = (false_positive*prior)/((false_positive*prior)+((1-false_positive)*(1-prior)))\n",
    "        for _ in range(iteration):\n",
    "            new_prior = (false_positive*new_prior)/((false_positive*new_prior)+((1-false_positive)*(1-new_prior)))            \n",
    "        return new_prior\n",
    "    return (false_positive*prior)/((false_positive*prior)+((1-false_positive)*(1-prior)))\n",
    "\n",
    "    #return prob_after_two_test"
   ]
  },
  {
   "cell_type": "code",
   "execution_count": 76,
   "metadata": {
    "colab": {
     "base_uri": "https://localhost:8080/",
     "height": 34
    },
    "colab_type": "code",
    "id": "_4ztdB0hw_PT",
    "outputId": "ab9dd70b-e4fb-4be3-cb9c-b3f61d43801d"
   },
   "outputs": [
    {
     "data": {
      "text/plain": [
       "0.33221476510067094"
      ]
     },
     "execution_count": 76,
     "metadata": {},
     "output_type": "execute_result"
    }
   ],
   "source": [
    "bayes_theorem_applier(.005, .99, 1)"
   ]
  },
  {
   "cell_type": "code",
   "execution_count": 144,
   "metadata": {},
   "outputs": [
    {
     "data": {
      "text/plain": [
       "0.9800999999999999"
      ]
     },
     "execution_count": 144,
     "metadata": {},
     "output_type": "execute_result"
    }
   ],
   "source": [
    "bayes_theorem_applier(.005, .99, 2)"
   ]
  },
  {
   "cell_type": "code",
   "execution_count": 85,
   "metadata": {
    "colab": {
     "base_uri": "https://localhost:8080/",
     "height": 34
    },
    "colab_type": "code",
    "id": "6elrqV-C7NGv",
    "outputId": "2d8be195-4a91-4dc2-af53-c3d32a73cdb9"
   },
   "outputs": [
    {
     "data": {
      "text/plain": [
       "0.33221476510067094"
      ]
     },
     "execution_count": 85,
     "metadata": {
      "tags": []
     },
     "output_type": "execute_result"
    }
   ],
   "source": [
    "newtry = bayes_theorem_applier(.005, .99, 1)\n",
    "newtry"
   ]
  },
  {
   "cell_type": "code",
   "execution_count": 86,
   "metadata": {
    "colab": {
     "base_uri": "https://localhost:8080/",
     "height": 34
    },
    "colab_type": "code",
    "id": "kLUoFZIp3B_B",
    "outputId": "54a4b279-be28-4424-ab01-5fd100a71d4c"
   },
   "outputs": [
    {
     "data": {
      "text/plain": [
       "0.9800999999999999"
      ]
     },
     "execution_count": 86,
     "metadata": {
      "tags": []
     },
     "output_type": "execute_result"
    }
   ],
   "source": [
    "newtry2 = bayes_theorem_applier(newtry, .99, 1)\n",
    "newtry2"
   ]
  },
  {
   "cell_type": "code",
   "execution_count": 75,
   "metadata": {
    "colab": {
     "base_uri": "https://localhost:8080/",
     "height": 34
    },
    "colab_type": "code",
    "id": "HI55orov7eGG",
    "outputId": "7e301d1a-c4cf-4186-84cb-946eff6e45de"
   },
   "outputs": [
    {
     "data": {
      "text/plain": [
       "0.9800999999999999"
      ]
     },
     "execution_count": 75,
     "metadata": {
      "tags": []
     },
     "output_type": "execute_result"
    }
   ],
   "source": [
    "bayes_theorem_applier(.99, newtry, 1)"
   ]
  },
  {
   "cell_type": "code",
   "execution_count": 89,
   "metadata": {
    "colab": {
     "base_uri": "https://localhost:8080/",
     "height": 34
    },
    "colab_type": "code",
    "id": "L41n08sb7zFC",
    "outputId": "e8a578cb-ca33-4e1d-9e8a-8b63139c2570"
   },
   "outputs": [
    {
     "data": {
      "text/plain": [
       "0.9999999790744397"
      ]
     },
     "execution_count": 89,
     "metadata": {
      "tags": []
     },
     "output_type": "execute_result"
    }
   ],
   "source": [
    "#this example got me to solve making a theorem without using recursion(I still need to learn\n",
    "#how to make a function that calls itself)\n",
    "false_positive=.99\n",
    "prior = .005\n",
    "new_prior = bayes_theorem_applier(prior, false_positive, 1)\n",
    "new_prior = bayes_theorem_applier(new_prior, false_positive)\n",
    "new_prior = bayes_theorem_applier(new_prior, false_positive)\n",
    "new_prior = bayes_theorem_applier(new_prior, false_positive)\n",
    "new_prior = bayes_theorem_applier(new_prior, false_positive)\n",
    "new_prior"
   ]
  },
  {
   "cell_type": "code",
   "execution_count": 79,
   "metadata": {},
   "outputs": [],
   "source": [
    "import scipy.stats as stats\n",
    "\n",
    "#.bayes_mvs as bayes"
   ]
  },
  {
   "cell_type": "code",
   "execution_count": 157,
   "metadata": {},
   "outputs": [],
   "source": [
    "def confidence_interval(data, confidence=0.95):\n",
    "  \"\"\"\n",
    "  Calculate a confidence interval around a sample mean for given data.\n",
    "  Using t-distribution and two-tailed test, default 95% confidence. \n",
    "  \n",
    "  Arguments:\n",
    "    data - iterable (list or numpy array) of sample observations\n",
    "    confidence - level of confidence for the interval\n",
    "  \n",
    "  Returns:\n",
    "    tuple of (mean, lower bound, upper bound)\n",
    "  \"\"\"\n",
    "  data = np.array(data)\n",
    "  mean = np.mean(data)\n",
    "  n = len(data)\n",
    "  # stderr = stats.sem(data)\n",
    "  stderr = np.std(data, ddof=1) / np.sqrt(n)\n",
    "  margin_of_error = stderr * stats.t.ppf((1 + confidence) / 2.0, n - 1)\n",
    "  #print(margin_of_error)\n",
    "  return (mean, mean - margin_of_error, mean + margin_of_error)\n",
    "def confidence_interval_for_issue(dem_data, rep_data, issue_in_question, confidence=.95):\n",
    "  \n",
    "  print('This interval is for democrats')\n",
    "  answer1 = confidence_interval(dem_data[issue_in_question], confidence)\n",
    "  print(answer1)\n",
    "  print('This interval is for republicans')\n",
    "  answer2 = confidence_interval(rep_data[issue_in_question], confidence)\n",
    "  print(answer2)\n",
    "  print('\\nThe blue line represents democrats in this graph\\n The orange line republicans')\n",
    "  ax = sns.kdeplot(dem_data[issue_in_question], legend=False)\n",
    "  CI = confidence_interval(dem_data[issue_in_question])\n",
    "  plt.axvline(x=CI[1], color='#609EC9')\n",
    "  plt.axvline(x=CI[2], color='#609EC9')\n",
    "  c = plt.axvline(x=CI[0], color='k');\n",
    "  \n",
    "  \n",
    "  ax2 = sns.kdeplot(rep_data[issue_in_question], legend =False)\n",
    "  CI2 = confidence_interval(rep_data[issue_in_question])\n",
    "  plt.axvline(x=CI2[1], color='#FF871E')\n",
    "  plt.axvline(x=CI2[2], color='#FF871E')\n",
    "  d = plt.axvline(x=CI2[0], color='k');\n",
    "  plt.show();\n",
    "  #sns.kdeplot()\n",
    "  #plt.legend()\n",
    "  #plt.legend(ax(0), ax2(0))\n",
    "  return plt.show()\n",
    "  #return answer1, answer2\n",
    "def bayes_confidence_interval_for_issue(dem_data, rep_data, issue_in_question, confidence=.95):\n",
    "  \n",
    "  print('This bayes is for democrats')\n",
    "  answer1 = stats.bayes_mvs(dem_data[issue_in_question], alpha = confidence)\n",
    "  print(answer1)\n",
    "  print('This bayes is for republicans')\n",
    "  answer2 = stats.bayes_mvs(rep_data[issue_in_question], alpha = confidence)\n",
    "  print(answer2)\n",
    "    \n",
    "  print('\\nThe blue line represents democrats in this graph\\n The orange line republicans')\n",
    "  ax = sns.kdeplot(dem_data[issue_in_question], legend=False)\n",
    "  CI = stats.bayes_mvs(dem_data[issue_in_question], alpha = confidence)\n",
    "  plt.axvline(x=CI[0][1][0], color='#609EC9')\n",
    "  plt.axvline(x=CI[0][1][1], color='#609EC9')\n",
    "  c = plt.axvline(x=CI[0][0], color='k');\n",
    "  \n",
    "  \n",
    "  ax2 = sns.kdeplot(rep_data[issue_in_question], legend =False)\n",
    "  CI2 = stats.bayes_mvs(rep_data[issue_in_question], alpha = confidence)\n",
    "  plt.axvline(x=CI2[0][1][0], color='#FF871E')\n",
    "  plt.axvline(x=CI2[0][1][1], color='#FF871E')\n",
    "  d = plt.axvline(x=CI2[0][0], color='k');\n",
    "  plt.show();\n",
    "  #sns.kdeplot()\n",
    "  #plt.legend()\n",
    "  #plt.legend(ax(0), ax2(0))\n",
    "  return plt.show()\n",
    "  #return answer1, answer2"
   ]
  },
  {
   "cell_type": "code",
   "execution_count": 91,
   "metadata": {},
   "outputs": [
    {
     "data": {
      "text/html": [
       "<div>\n",
       "<style scoped>\n",
       "    .dataframe tbody tr th:only-of-type {\n",
       "        vertical-align: middle;\n",
       "    }\n",
       "\n",
       "    .dataframe tbody tr th {\n",
       "        vertical-align: top;\n",
       "    }\n",
       "\n",
       "    .dataframe thead th {\n",
       "        text-align: right;\n",
       "    }\n",
       "</style>\n",
       "<table border=\"1\" class=\"dataframe\">\n",
       "  <thead>\n",
       "    <tr style=\"text-align: right;\">\n",
       "      <th></th>\n",
       "      <th>party</th>\n",
       "      <th>handicapped-infants</th>\n",
       "      <th>water-project</th>\n",
       "      <th>budget</th>\n",
       "      <th>physician-fee-freeze</th>\n",
       "      <th>el-salvador-aid</th>\n",
       "      <th>religious-groups</th>\n",
       "      <th>anti-satellite-ban</th>\n",
       "      <th>aid-to-contras</th>\n",
       "      <th>mx-missile</th>\n",
       "      <th>immigration</th>\n",
       "      <th>synfuels</th>\n",
       "      <th>education</th>\n",
       "      <th>right-to-sue</th>\n",
       "      <th>crime</th>\n",
       "      <th>duty-free</th>\n",
       "      <th>south-africa</th>\n",
       "    </tr>\n",
       "  </thead>\n",
       "  <tbody>\n",
       "    <tr>\n",
       "      <th>0</th>\n",
       "      <td>republican</td>\n",
       "      <td>-1</td>\n",
       "      <td>1</td>\n",
       "      <td>-1</td>\n",
       "      <td>1</td>\n",
       "      <td>1</td>\n",
       "      <td>1</td>\n",
       "      <td>-1</td>\n",
       "      <td>-1</td>\n",
       "      <td>-1</td>\n",
       "      <td>1</td>\n",
       "      <td>0</td>\n",
       "      <td>1</td>\n",
       "      <td>1</td>\n",
       "      <td>1</td>\n",
       "      <td>-1</td>\n",
       "      <td>1</td>\n",
       "    </tr>\n",
       "    <tr>\n",
       "      <th>1</th>\n",
       "      <td>republican</td>\n",
       "      <td>-1</td>\n",
       "      <td>1</td>\n",
       "      <td>-1</td>\n",
       "      <td>1</td>\n",
       "      <td>1</td>\n",
       "      <td>1</td>\n",
       "      <td>-1</td>\n",
       "      <td>-1</td>\n",
       "      <td>-1</td>\n",
       "      <td>-1</td>\n",
       "      <td>-1</td>\n",
       "      <td>1</td>\n",
       "      <td>1</td>\n",
       "      <td>1</td>\n",
       "      <td>-1</td>\n",
       "      <td>0</td>\n",
       "    </tr>\n",
       "    <tr>\n",
       "      <th>2</th>\n",
       "      <td>democrat</td>\n",
       "      <td>0</td>\n",
       "      <td>1</td>\n",
       "      <td>1</td>\n",
       "      <td>0</td>\n",
       "      <td>1</td>\n",
       "      <td>1</td>\n",
       "      <td>-1</td>\n",
       "      <td>-1</td>\n",
       "      <td>-1</td>\n",
       "      <td>-1</td>\n",
       "      <td>1</td>\n",
       "      <td>-1</td>\n",
       "      <td>1</td>\n",
       "      <td>1</td>\n",
       "      <td>-1</td>\n",
       "      <td>-1</td>\n",
       "    </tr>\n",
       "    <tr>\n",
       "      <th>3</th>\n",
       "      <td>democrat</td>\n",
       "      <td>-1</td>\n",
       "      <td>1</td>\n",
       "      <td>1</td>\n",
       "      <td>-1</td>\n",
       "      <td>0</td>\n",
       "      <td>1</td>\n",
       "      <td>-1</td>\n",
       "      <td>-1</td>\n",
       "      <td>-1</td>\n",
       "      <td>-1</td>\n",
       "      <td>1</td>\n",
       "      <td>-1</td>\n",
       "      <td>1</td>\n",
       "      <td>-1</td>\n",
       "      <td>-1</td>\n",
       "      <td>1</td>\n",
       "    </tr>\n",
       "    <tr>\n",
       "      <th>4</th>\n",
       "      <td>democrat</td>\n",
       "      <td>1</td>\n",
       "      <td>1</td>\n",
       "      <td>1</td>\n",
       "      <td>-1</td>\n",
       "      <td>1</td>\n",
       "      <td>1</td>\n",
       "      <td>-1</td>\n",
       "      <td>-1</td>\n",
       "      <td>-1</td>\n",
       "      <td>-1</td>\n",
       "      <td>1</td>\n",
       "      <td>0</td>\n",
       "      <td>1</td>\n",
       "      <td>1</td>\n",
       "      <td>1</td>\n",
       "      <td>1</td>\n",
       "    </tr>\n",
       "  </tbody>\n",
       "</table>\n",
       "</div>"
      ],
      "text/plain": [
       "        party  handicapped-infants  water-project  budget  \\\n",
       "0  republican                   -1              1      -1   \n",
       "1  republican                   -1              1      -1   \n",
       "2    democrat                    0              1       1   \n",
       "3    democrat                   -1              1       1   \n",
       "4    democrat                    1              1       1   \n",
       "\n",
       "   physician-fee-freeze  el-salvador-aid  religious-groups  \\\n",
       "0                     1                1                 1   \n",
       "1                     1                1                 1   \n",
       "2                     0                1                 1   \n",
       "3                    -1                0                 1   \n",
       "4                    -1                1                 1   \n",
       "\n",
       "   anti-satellite-ban  aid-to-contras  mx-missile  immigration  synfuels  \\\n",
       "0                  -1              -1          -1            1         0   \n",
       "1                  -1              -1          -1           -1        -1   \n",
       "2                  -1              -1          -1           -1         1   \n",
       "3                  -1              -1          -1           -1         1   \n",
       "4                  -1              -1          -1           -1         1   \n",
       "\n",
       "   education  right-to-sue  crime  duty-free  south-africa  \n",
       "0          1             1      1         -1             1  \n",
       "1          1             1      1         -1             0  \n",
       "2         -1             1      1         -1            -1  \n",
       "3         -1             1     -1         -1             1  \n",
       "4          0             1      1          1             1  "
      ]
     },
     "execution_count": 91,
     "metadata": {},
     "output_type": "execute_result"
    }
   ],
   "source": [
    "dataseturl = 'https://archive.ics.uci.edu/ml/machine-learning-databases/voting-records/house-votes-84.data'\n",
    "import pandas as pd\n",
    "import numpy as np\n",
    "import seaborn as sns\n",
    "import matplotlib.pyplot as plt\n",
    "# Load Data\n",
    "df = pd.read_csv(dataseturl, \n",
    "                 header=None,\n",
    "                 names=['party','handicapped-infants','water-project',\n",
    "                          'budget','physician-fee-freeze', 'el-salvador-aid',\n",
    "                          'religious-groups','anti-satellite-ban',\n",
    "                          'aid-to-contras','mx-missile','immigration',\n",
    "                          'synfuels', 'education', 'right-to-sue','crime','duty-free',\n",
    "                          'south-africa'])\n",
    "df = df.replace({'?':0, 'n':-1, 'y':1})\n",
    "df_sample = df.replace({0:np.NaN, 'n':-1, 'y':1})\n",
    "dem = df[df['party'] == 'democrat']\n",
    "rep = df[df['party'] == 'republican']\n",
    "df.head()"
   ]
  },
  {
   "cell_type": "code",
   "execution_count": 158,
   "metadata": {},
   "outputs": [
    {
     "data": {
      "text/plain": [
       "(Mean(statistic=0.18850574712643678, minmax=(0.09707546657244746, 0.2799360276804261)),\n",
       " Variance(statistic=0.9457002979991487, minmax=(0.8276550458439628, 1.080306320806984)),\n",
       " Std_dev(statistic=0.971908623085097, minmax=(0.909755486844659, 1.039377852759517)))"
      ]
     },
     "execution_count": 158,
     "metadata": {},
     "output_type": "execute_result"
    }
   ],
   "source": [
    "stats.bayes_mvs(df['budget'], alpha = .95)"
   ]
  },
  {
   "cell_type": "code",
   "execution_count": 159,
   "metadata": {},
   "outputs": [],
   "source": [
    "sample_test_1 = stats.bayes_mvs(df['budget'], alpha = .9)"
   ]
  },
  {
   "cell_type": "code",
   "execution_count": 160,
   "metadata": {},
   "outputs": [
    {
     "data": {
      "text/plain": [
       "(Mean(statistic=0.18850574712643678, minmax=(0.11182533892897818, 0.26518615532389533)),\n",
       " Variance(statistic=0.9457002979991487, minmax=(0.8448457986474573, 1.056476335520151)),\n",
       " Std_dev(statistic=0.971908623085097, minmax=(0.9191549372371651, 1.0278503468502362)))"
      ]
     },
     "execution_count": 160,
     "metadata": {},
     "output_type": "execute_result"
    }
   ],
   "source": [
    "sample_test_1"
   ]
  },
  {
   "cell_type": "code",
   "execution_count": 161,
   "metadata": {},
   "outputs": [
    {
     "data": {
      "text/plain": [
       "(0.18850574712643678, 0.09707546657244745, 0.27993602768042614)"
      ]
     },
     "execution_count": 161,
     "metadata": {},
     "output_type": "execute_result"
    }
   ],
   "source": [
    "confidence_interval(df['budget'])"
   ]
  },
  {
   "cell_type": "code",
   "execution_count": 162,
   "metadata": {},
   "outputs": [
    {
     "name": "stdout",
     "output_type": "stream",
     "text": [
      "This interval is for democrats\n",
      "(0.5280898876404494, 0.427726202568374, 0.6284535727125248)\n",
      "This interval is for republicans\n",
      "(-0.5, -0.6291173200727946, -0.37088267992720536)\n",
      "\n",
      "The blue line represents democrats in this graph\n",
      " The orange line republicans\n"
     ]
    },
    {
     "data": {
      "image/png": "[encoded data removed]",
      "text/plain": [
       "<Figure size 432x288 with 1 Axes>"
      ]
     },
     "metadata": {
      "needs_background": "light"
     },
     "output_type": "display_data"
    }
   ],
   "source": [
    "confidence_interval_for_issue(dem, rep, 'anti-satellite-ban')"
   ]
  },
  {
   "cell_type": "code",
   "execution_count": 175,
   "metadata": {},
   "outputs": [
    {
     "name": "stdout",
     "output_type": "stream",
     "text": [
      "This bayes is for democrats\n",
      "(Mean(statistic=0.5280898876404494, minmax=(0.427726202568374, 0.6284535727125248)), Variance(statistic=0.6990125978890025, minmax=(0.589450088129475, 0.8285849507814734)), Std_dev(statistic=0.835278376616391, minmax=(0.7677565292001592, 0.9102664174742874)))\n",
      "This bayes is for republicans\n",
      "(Mean(statistic=-0.5, minmax=(-0.6291173200727946, -0.37088267992720536)), Variance(statistic=0.7272727272727273, minmax=(0.5862960050063586, 0.9015061997128555)), Std_dev(statistic=0.8515117261554574, minmax=(0.7656996833004168, 0.9494768031462673)))\n",
      "\n",
      "The blue line represents democrats in this graph\n",
      " The orange line republicans\n"
     ]
    },
    {
     "data": {
      "image/png": "[encoded data removed]",
      "text/plain": [
       "<Figure size 432x288 with 1 Axes>"
      ]
     },
     "metadata": {
      "needs_background": "light"
     },
     "output_type": "display_data"
    }
   ],
   "source": [
    "bayes_confidence_interval_for_issue(dem, rep, 'anti-satellite-ban', confidence = .95)"
   ]
  },
  {
   "cell_type": "code",
   "execution_count": 165,
   "metadata": {},
   "outputs": [
    {
     "name": "stdout",
     "output_type": "stream",
     "text": [
      "This interval is for democrats\n",
      "(-0.2883895131086142, -0.40159712742757464, -0.1751818987896538)\n",
      "This interval is for republicans\n",
      "(0.9226190476190477, 0.8726203936082828, 0.9726177016298125)\n",
      "\n",
      "The blue line represents democrats in this graph\n",
      " The orange line republicans\n"
     ]
    },
    {
     "data": {
      "image/png": "[encoded data removed]",
      "text/plain": [
       "<Figure size 432x288 with 1 Axes>"
      ]
     },
     "metadata": {
      "needs_background": "light"
     },
     "output_type": "display_data"
    }
   ],
   "source": [
    "confidence_interval_for_issue(dem, rep, 'crime')"
   ]
  },
  {
   "cell_type": "code",
   "execution_count": 166,
   "metadata": {},
   "outputs": [
    {
     "name": "stdout",
     "output_type": "stream",
     "text": [
      "This bayes is for democrats\n",
      "(Mean(statistic=-0.2883895131086142, minmax=(-0.40159712742757464, -0.1751818987896538)), Variance(statistic=0.8893712404948361, minmax=(0.7499721144836171, 1.0542293912260627)), Std_dev(statistic=0.9421721835049037, minmax=(0.8660093039243961, 1.0267567342004935)))\n",
      "This bayes is for republicans\n",
      "(Mean(statistic=0.9226190476190477, minmax=(0.8726203936082828, 0.9726177016298125)), Variance(statistic=0.10905483405483406, minmax=(0.08791531860784832, 0.13518121238749814)), Std_dev(statistic=0.3297345403246668, minmax=(0.2965051746729698, 0.367669977544398)))\n",
      "\n",
      "The blue line represents democrats in this graph\n",
      " The orange line republicans\n"
     ]
    },
    {
     "data": {
      "image/png": "[encoded data removed]",
      "text/plain": [
       "<Figure size 432x288 with 1 Axes>"
      ]
     },
     "metadata": {
      "needs_background": "light"
     },
     "output_type": "display_data"
    }
   ],
   "source": [
    "bayes_confidence_interval_for_issue(dem, rep, 'crime')"
   ]
  },
  {
   "cell_type": "code",
   "execution_count": 167,
   "metadata": {
    "colab": {},
    "colab_type": "code",
    "id": "9HP4AyVR9sAI"
   },
   "outputs": [
    {
     "name": "stdout",
     "output_type": "stream",
     "text": [
      "This interval is for democrats\n",
      "(-0.056179775280898875, -0.17580234143603218, 0.06344279087423443)\n",
      "This interval is for republicans\n",
      "(0.1130952380952381, -0.03731913888511405, 0.26350961507559023)\n",
      "\n",
      "The blue line represents democrats in this graph\n",
      " The orange line republicans\n"
     ]
    },
    {
     "data": {
      "image/png": "[encoded data removed]",
      "text/plain": [
       "<Figure size 432x288 with 1 Axes>"
      ]
     },
     "metadata": {
      "needs_background": "light"
     },
     "output_type": "display_data"
    }
   ],
   "source": [
    "confidence_interval_for_issue(dem, rep, 'immigration')"
   ]
  },
  {
   "cell_type": "code",
   "execution_count": 168,
   "metadata": {},
   "outputs": [
    {
     "name": "stdout",
     "output_type": "stream",
     "text": [
      "This bayes is for democrats\n",
      "(Mean(statistic=-0.056179775280898875, minmax=(-0.17580234143603218, 0.06344279087423442)), Variance(statistic=0.9930200885257063, minmax=(0.8373751495516869, 1.177091090576798)), Std_dev(statistic=0.995560722914779, minmax=(0.9150820452569741, 1.084938288833424)))\n",
      "This bayes is for republicans\n",
      "(Mean(statistic=0.1130952380952381, minmax=(-0.03731913888511405, 0.26350961507559023)), Variance(statistic=0.9869769119769121, minmax=(0.7956583532226669, 1.2234279820408738)), Std_dev(statistic=0.9919630124674811, minmax=(0.8919968347604531, 1.106086787752604)))\n",
      "\n",
      "The blue line represents democrats in this graph\n",
      " The orange line republicans\n"
     ]
    },
    {
     "data": {
      "image/png": "[encoded data removed]",
      "text/plain": [
       "<Figure size 432x288 with 1 Axes>"
      ]
     },
     "metadata": {
      "needs_background": "light"
     },
     "output_type": "display_data"
    }
   ],
   "source": [
    "bayes_confidence_interval_for_issue(dem, rep, 'immigration')"
   ]
  },
  {
   "cell_type": "code",
   "execution_count": null,
   "metadata": {},
   "outputs": [],
   "source": []
  },
  {
   "cell_type": "markdown",
   "metadata": {
    "colab_type": "text",
    "id": "uWgWjp3PQ3Sq"
   },
   "source": [
    "## Resources"
   ]
  },
  {
   "cell_type": "markdown",
   "metadata": {
    "colab_type": "text",
    "id": "QRgHqmYIQ9qn"
   },
   "source": [
    "- [Worked example of Bayes rule calculation](https://en.wikipedia.org/wiki/Bayes'_theorem#Examples) (helpful as it fully breaks out the denominator)\n",
    "- [Source code for mvsdist in scipy](https://github.com/scipy/scipy/blob/90534919e139d2a81c24bf08341734ff41a3db12/scipy/stats/morestats.py#L139)"
   ]
  }
 ],
 "metadata": {
  "colab": {
   "name": "Jean Fraga LS_DS8_133_Introduction_to_Bayesian_Inference_Assignment.ipynb",
   "provenance": []
  },
  "kernelspec": {
   "display_name": "Python 3",
   "language": "python",
   "name": "python3"
  },
  "language_info": {
   "codemirror_mode": {
    "name": "ipython",
    "version": 3
   },
   "file_extension": ".py",
   "mimetype": "text/x-python",
   "name": "python",
   "nbconvert_exporter": "python",
   "pygments_lexer": "ipython3",
   "version": "3.7.3"
  }
 },
 "nbformat": 4,
 "nbformat_minor": 1
}
